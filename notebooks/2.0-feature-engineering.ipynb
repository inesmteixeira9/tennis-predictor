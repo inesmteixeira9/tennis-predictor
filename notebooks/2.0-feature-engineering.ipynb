{
 "cells": [
  {
   "cell_type": "markdown",
   "metadata": {},
   "source": [
    "# Feature Engineering\n",
    "This notebook focus on:\n",
    "- Explore data transformations\n",
    "- Analyse feature importance\n",
    "- Feature selection"
   ]
  },
  {
   "cell_type": "code",
   "execution_count": null,
   "metadata": {},
   "outputs": [],
   "source": [
    "# import custom libraries\n",
    "current_dir = os.getcwd()\n",
    "parent_dir = os.path.dirname(current_dir)\n",
    "from libs import data_utils"
   ]
  },
  {
   "cell_type": "code",
   "execution_count": null,
   "metadata": {},
   "outputs": [],
   "source": [
    "# read data\n",
    "df = data_utils.read_data(parent_dir + '/data/interim/')"
   ]
  },
  {
   "cell_type": "code",
   "execution_count": null,
   "metadata": {},
   "outputs": [],
   "source": [
    "df.describe()"
   ]
  },
  {
   "cell_type": "markdown",
   "metadata": {},
   "source": [
    "In the following columns, we can see that significant differences between <b>maximum values</b> and the respective <b>75th percentil</b>, indicating the possibility of a right-skew distribution:\n",
    "- rank_p1,\n",
    "- rank_p2,\n",
    "- consecutive_wins_p1,\n",
    "- consecutive_wins_p2,\n",
    "- days_last_win_p1 and\n",
    "- days_last_win_p2."
   ]
  },
  {
   "cell_type": "markdown",
   "metadata": {},
   "source": [
    "#### Binning features\n",
    "Technique used to discretize continuous numerical features into categoical bins."
   ]
  },
  {
   "cell_type": "code",
   "execution_count": null,
   "metadata": {},
   "outputs": [],
   "source": [
    "binning_features = {\n",
    "    'RankP1': 15,\n",
    "    'RankP2': 15,\n",
    "    'Rank_dif': 15,\n",
    "    'Rank_ratio': 15,\n",
    "    'OddP2': 15,\n",
    "    'Odd_dif': 15,\n",
    "    'Odd_ratio': 15\n",
    "}\n",
    "\n",
    "for feature, num_classes in binning_features.items():\n",
    "    # Calculate the bin edges to have approximately the same frequency in each bin\n",
    "    bin_edges = pd.qcut(df[feature], q=num_classes, labels=False, retbins=True, duplicates='drop')[1]\n",
    "\n",
    "    new_col_name = feature + '_binned'\n",
    "\n",
    "    # Split the column into classes based on the bin edges\n",
    "    df[new_col_name] = pd.cut(df[feature], bins=bin_edges, labels=range(len(bin_edges) - 1))\n",
    "\n",
    "    print(f'{feature} binned.')"
   ]
  },
  {
   "cell_type": "code",
   "execution_count": null,
   "metadata": {},
   "outputs": [],
   "source": [
    "# Assuming binning_features is a dictionary where keys are feature names and values are the number of desired bins\n",
    "binning_features = {\n",
    "    'RankP1': 15,\n",
    "    'RankP2': 15,\n",
    "    'Rank_dif': 15,\n",
    "    'Rank_ratio': 15,\n",
    "    'OddP2': 15,\n",
    "    'Odd_dif': 15,\n",
    "    'Odd_ratio': 15\n",
    "}\n",
    "\n",
    "binning_data = []\n",
    "\n",
    "# Create an empty DataFrame to store the bin edges\n",
    "binning_df = pd.DataFrame(columns=['Feature', 'Bin', 'Lower Bound', 'Upper Bound'])\n",
    "\n",
    "# Iterate through each feature and its corresponding number of classes\n",
    "for feature, num_classes in binning_features.items():\n",
    "    # Calculate the bin edges to have approximately the same frequency in each bin\n",
    "    bin_edges = pd.qcut(df[feature], q=num_classes, labels=False, retbins=True, duplicates='drop')[1]\n",
    "\n",
    "    # Create bins with labels\n",
    "    #bins = pd.cut(df[feature], bins=bin_edges, labels=False)\n",
    "    \n",
    "    # Split the column into classes based on the bin edges\n",
    "    df[feature + '_binned'] = pd.cut(df[feature], bins=bin_edges, labels=range(len(bin_edges) - 1))\n",
    "\n",
    "    # Iterate through each bin and get the lower and upper bounds\n",
    "    for bin_num in range(num_classes):\n",
    "        lower_bound = bin_edges[bin_num]\n",
    "        upper_bound = bin_edges[bin_num + 1] if bin_num < len(bin_edges) - 1 else float('inf')\n",
    "        \n",
    "        binning_data.append({'Feature': feature, 'Bin': bin_num + 1, \n",
    "                             'Lower Bound': lower_bound, 'Upper Bound': upper_bound})\n",
    "\n",
    "binning_df = pd.DataFrame(binning_data)\n",
    "\n",
    "binning_df[binning_df['Feature']=='RankP1']"
   ]
  }
 ],
 "metadata": {
  "language_info": {
   "name": "python"
  }
 },
 "nbformat": 4,
 "nbformat_minor": 2
}
